{
 "cells": [
  {
   "cell_type": "code",
   "execution_count": 8,
   "metadata": {},
   "outputs": [
    {
     "name": "stdout",
     "output_type": "stream",
     "text": [
      "Hola Mundo\n"
     ]
    }
   ],
   "source": [
    "print(\"Hola Mundo\")"
   ]
  },
  {
   "cell_type": "code",
   "execution_count": 13,
   "metadata": {},
   "outputs": [],
   "source": [
    "age = 31\n",
    "temperature = 38.5\n",
    "name = \"Profe python\"\n",
    "is_cool = True\n",
    "numbers = [1,2,3,4,5,6]\n",
    "series = set([1,2,3,4,5,6,1])"
   ]
  },
  {
   "cell_type": "code",
   "execution_count": 14,
   "metadata": {},
   "outputs": [
    {
     "name": "stdout",
     "output_type": "stream",
     "text": [
      "<class 'int'>\n",
      "<class 'list'>\n",
      "<class 'bool'>\n",
      "<class 'float'>\n",
      "{1, 2, 3, 4, 5, 6}\n"
     ]
    }
   ],
   "source": [
    "print(type(age))\n",
    "print(type(numbers))\n",
    "print(type(is_cool))\n",
    "print(type(temperature))\n",
    "print(series)"
   ]
  },
  {
   "cell_type": "code",
   "execution_count": 15,
   "metadata": {},
   "outputs": [
    {
     "name": "stdout",
     "output_type": "stream",
     "text": [
      "WoohooWoohooWoohooWoohooWoohoo\n"
     ]
    }
   ],
   "source": [
    "print(\"Woohoo\" * 5)"
   ]
  },
  {
   "cell_type": "code",
   "execution_count": 16,
   "metadata": {},
   "outputs": [
    {
     "name": "stdout",
     "output_type": "stream",
     "text": [
      "Aviso por alta temperatura\n"
     ]
    }
   ],
   "source": [
    "temperature = 48\n",
    "if temperature > 35:\n",
    "    print(\"Aviso por alta temperatura\")"
   ]
  },
  {
   "cell_type": "code",
   "execution_count": 19,
   "metadata": {},
   "outputs": [
    {
     "name": "stdout",
     "output_type": "stream",
     "text": [
      "Eres mayor de edad\n"
     ]
    }
   ],
   "source": [
    "age = int(input(\"Dame tu edad: \"))\n",
    "\n",
    "def isAdult(age):\n",
    "    if age > 18:\n",
    "        print(\"Eres mayor de edad\")\n",
    "    else:\n",
    "        print(\"Eres menor de edad\")\n",
    "    \n",
    "    \n",
    "isAdult(age)"
   ]
  },
  {
   "attachments": {},
   "cell_type": "markdown",
   "metadata": {},
   "source": [
    "1. Elegir un numero random(PC)\n",
    "2. Yo le digo un numero\n",
    "3. Si el numero es mas grande le digo que es high\n",
    "4. Si el numero es mas chico le digo esta low"
   ]
  },
  {
   "cell_type": "code",
   "execution_count": 21,
   "metadata": {},
   "outputs": [
    {
     "name": "stdout",
     "output_type": "stream",
     "text": [
      "El numero al azar es: 86\n",
      "Te huiste muy abajo\n",
      "Te huiste muy abajo\n",
      "Te huiste muy abajo\n",
      "Te huiste muy abajo\n",
      "Te huiste muy arriba\n",
      "Te huiste muy arriba\n",
      "Felicidades!!! El numero era: {guess}\n"
     ]
    }
   ],
   "source": [
    "import random\n",
    "\n",
    "def guess(top):\n",
    "    random_number = random.randint(1, top)\n",
    "    print(f\"El numero al azar es: {random_number}\")\n",
    "    guess = 0\n",
    "    while guess != random_number:\n",
    "        guess = int(input(\"Adivina el numero: \"))\n",
    "        if guess > random_number:\n",
    "            print(\"Te huiste muy arriba\")\n",
    "        elif guess < random_number:\n",
    "            print(\"Te huiste muy abajo\")\n",
    "\n",
    "    print(\"Felicidades!!! El numero era: {guess}\")\n",
    "\n",
    "guess(100)"
   ]
  },
  {
   "attachments": {},
   "cell_type": "markdown",
   "metadata": {},
   "source": [
    "### Consumir una API con python (primera parte)"
   ]
  },
  {
   "cell_type": "code",
   "execution_count": 22,
   "metadata": {},
   "outputs": [],
   "source": [
    "import requests\n",
    "\n",
    "x = requests.get(\"https://jsonplaceholder.typicode.com/todos/1\")"
   ]
  }
 ],
 "metadata": {
  "kernelspec": {
   "display_name": "Python 3 (ipykernel)",
   "language": "python",
   "name": "python3"
  },
  "language_info": {
   "codemirror_mode": {
    "name": "ipython",
    "version": 3
   },
   "file_extension": ".py",
   "mimetype": "text/x-python",
   "name": "python",
   "nbconvert_exporter": "python",
   "pygments_lexer": "ipython3",
   "version": "3.10.10"
  }
 },
 "nbformat": 4,
 "nbformat_minor": 4
}
